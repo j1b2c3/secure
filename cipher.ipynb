{
  "nbformat": 4,
  "nbformat_minor": 0,
  "metadata": {
    "colab": {
      "provenance": [],
      "authorship_tag": "ABX9TyMVC12zPfvqTg8aL44Z7prO",
      "include_colab_link": true
    },
    "kernelspec": {
      "name": "python3",
      "display_name": "Python 3"
    },
    "language_info": {
      "name": "python"
    }
  },
  "cells": [
    {
      "cell_type": "markdown",
      "metadata": {
        "id": "view-in-github",
        "colab_type": "text"
      },
      "source": [
        "<a href=\"https://colab.research.google.com/github/j1b2c3/secure/blob/main/cipher.ipynb\" target=\"_parent\"><img src=\"https://colab.research.google.com/assets/colab-badge.svg\" alt=\"Open In Colab\"/></a>"
      ]
    },
    {
      "cell_type": "code",
      "execution_count": null,
      "metadata": {
        "colab": {
          "base_uri": "https://localhost:8080/"
        },
        "id": "M7-k-RlDSHCj",
        "outputId": "9d9c56b1-77bd-4735-e58e-52adec579e57"
      },
      "outputs": [
        {
          "output_type": "stream",
          "name": "stdout",
          "text": [
            "plaintext : testmsg\n",
            "key : 4\n",
            "xiwxqwk\n"
          ]
        }
      ],
      "source": [
        "#shift cipher\n",
        "\n",
        "def encrypt(text,key):\n",
        "  result = \"\"\n",
        "\n",
        "  for i in range(len(text)):\n",
        "    char = text[i]\n",
        "    if (char.isupper()):\n",
        "      result += chr((ord(char) + key - 65) % 26 + 65)\n",
        "    else:\n",
        "      result += chr((ord(char) + key - 97) % 26 + 97)\n",
        "  return result\n",
        "\n",
        "msg = input(\"plaintext : \")\n",
        "key = input(\"key : \")\n",
        "\n",
        "ciphertext = encrypt(msg, int(key))\n",
        "print(ciphertext)"
      ]
    },
    {
      "cell_type": "code",
      "source": [
        "LETTERS = 'abcdefghijklmnopqrstuvwxyz'\n",
        "\n",
        "for key in range(len(LETTERS)):\n",
        "  translated = ''\n",
        "  for symbol in ciphertext:\n",
        "    if symbol in LETTERS:\n",
        "      num = LETTERS.find(symbol)\n",
        "      num = num - key\n",
        "      if num < 0:\n",
        "        num = num+len(LETTERS)\n",
        "      translated = translated + LETTERS[num]\n",
        "    else:\n",
        "      translated = translated + symbol\n",
        "  print(\"key %s : %s\" % (key, translated))"
      ],
      "metadata": {
        "colab": {
          "base_uri": "https://localhost:8080/"
        },
        "id": "jQjMyl79Su21",
        "outputId": "2344401d-ecce-4133-f83a-8dfa1c6f0c39"
      },
      "execution_count": null,
      "outputs": [
        {
          "output_type": "stream",
          "name": "stdout",
          "text": [
            "key 0 : xiwxqwk\n",
            "key 1 : whvwpvj\n",
            "key 2 : vguvoui\n",
            "key 3 : uftunth\n",
            "key 4 : testmsg\n",
            "key 5 : sdrslrf\n",
            "key 6 : rcqrkqe\n",
            "key 7 : qbpqjpd\n",
            "key 8 : paopioc\n",
            "key 9 : oznohnb\n",
            "key 10 : nymngma\n",
            "key 11 : mxlmflz\n",
            "key 12 : lwkleky\n",
            "key 13 : kvjkdjx\n",
            "key 14 : juijciw\n",
            "key 15 : ithibhv\n",
            "key 16 : hsghagu\n",
            "key 17 : grfgzft\n",
            "key 18 : fqefyes\n",
            "key 19 : epdexdr\n",
            "key 20 : docdwcq\n",
            "key 21 : cnbcvbp\n",
            "key 22 : bmabuao\n",
            "key 23 : alzatzn\n",
            "key 24 : zkyzsym\n",
            "key 25 : yjxyrxl\n"
          ]
        }
      ]
    },
    {
      "cell_type": "code",
      "source": [
        "# substitution cipher\n",
        "\n",
        "alphabet = 'abcdefghijklmnopqrstuvwxyz'\n",
        "key = \"bcdefghijklmnopqrstuvwxyza\"\n",
        "\n",
        "def encrypt(text, key):\n",
        "  result = \"\"\n",
        "  for letter in text:\n",
        "    if letter.lower() in alphabet:\n",
        "      result += key[alphabet.find(letter.lower())]\n",
        "    else:\n",
        "      result += letter\n",
        "  return(result)\n",
        "\n",
        "msg = input(\"plaintext : \")\n",
        "print(encrypt(msg,key))"
      ],
      "metadata": {
        "colab": {
          "base_uri": "https://localhost:8080/"
        },
        "id": "gnzxakO3XlXE",
        "outputId": "0ff5c892-e5be-486e-f7d9-34edb2dc3db5"
      },
      "execution_count": null,
      "outputs": [
        {
          "output_type": "stream",
          "name": "stdout",
          "text": [
            "plaintext : abcdefg\n",
            "bcdefgh\n"
          ]
        }
      ]
    }
  ]
}