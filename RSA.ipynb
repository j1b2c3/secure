{
  "nbformat": 4,
  "nbformat_minor": 0,
  "metadata": {
    "colab": {
      "provenance": [],
      "authorship_tag": "ABX9TyPCLY1ZWvOt+ZVU9lge0zd4",
      "include_colab_link": true
    },
    "kernelspec": {
      "name": "python3",
      "display_name": "Python 3"
    },
    "language_info": {
      "name": "python"
    }
  },
  "cells": [
    {
      "cell_type": "markdown",
      "metadata": {
        "id": "view-in-github",
        "colab_type": "text"
      },
      "source": [
        "<a href=\"https://colab.research.google.com/github/j1b2c3/secure/blob/main/RSA.ipynb\" target=\"_parent\"><img src=\"https://colab.research.google.com/assets/colab-badge.svg\" alt=\"Open In Colab\"/></a>"
      ]
    },
    {
      "cell_type": "code",
      "execution_count": null,
      "metadata": {
        "colab": {
          "base_uri": "https://localhost:8080/",
          "height": 384
        },
        "id": "sbRHocNBUHiD",
        "outputId": "e4dd63f7-cf93-4125-c942-c102e949368a"
      },
      "outputs": [
        {
          "output_type": "error",
          "ename": "ModuleNotFoundError",
          "evalue": "No module named 'Crypto'",
          "traceback": [
            "\u001b[0;31m---------------------------------------------------------------------------\u001b[0m",
            "\u001b[0;31mModuleNotFoundError\u001b[0m                       Traceback (most recent call last)",
            "\u001b[0;32m<ipython-input-3-e7861df61881>\u001b[0m in \u001b[0;36m<cell line: 2>\u001b[0;34m()\u001b[0m\n\u001b[1;32m      1\u001b[0m \u001b[0;32mfrom\u001b[0m \u001b[0mhashlib\u001b[0m \u001b[0;32mimport\u001b[0m \u001b[0msha512\u001b[0m\u001b[0;34m\u001b[0m\u001b[0;34m\u001b[0m\u001b[0m\n\u001b[0;32m----> 2\u001b[0;31m \u001b[0;32mfrom\u001b[0m \u001b[0mCrypto\u001b[0m\u001b[0;34m.\u001b[0m\u001b[0mPublicKey\u001b[0m \u001b[0;32mimport\u001b[0m \u001b[0mRSA\u001b[0m\u001b[0;34m\u001b[0m\u001b[0;34m\u001b[0m\u001b[0m\n\u001b[0m\u001b[1;32m      3\u001b[0m \u001b[0;34m\u001b[0m\u001b[0m\n\u001b[1;32m      4\u001b[0m \u001b[0;32mdef\u001b[0m \u001b[0mfast_modular_exponentation\u001b[0m\u001b[0;34m(\u001b[0m\u001b[0ma\u001b[0m\u001b[0;34m,\u001b[0m \u001b[0mb\u001b[0m\u001b[0;34m,\u001b[0m \u001b[0mn\u001b[0m\u001b[0;34m)\u001b[0m\u001b[0;34m:\u001b[0m\u001b[0;34m\u001b[0m\u001b[0;34m\u001b[0m\u001b[0m\n\u001b[1;32m      5\u001b[0m   \u001b[0mresult\u001b[0m \u001b[0;34m=\u001b[0m \u001b[0;36m1\u001b[0m\u001b[0;34m\u001b[0m\u001b[0;34m\u001b[0m\u001b[0m\n",
            "\u001b[0;31mModuleNotFoundError\u001b[0m: No module named 'Crypto'",
            "",
            "\u001b[0;31m---------------------------------------------------------------------------\u001b[0;32m\nNOTE: If your import is failing due to a missing package, you can\nmanually install dependencies using either !pip or !apt.\n\nTo view examples of installing some common dependencies, click the\n\"Open Examples\" button below.\n\u001b[0;31m---------------------------------------------------------------------------\u001b[0m\n"
          ],
          "errorDetails": {
            "actions": [
              {
                "action": "open_url",
                "actionText": "Open Examples",
                "url": "/notebooks/snippets/importing_libraries.ipynb"
              }
            ]
          }
        }
      ],
      "source": [
        "from hashlib import sha512\n",
        "from Crypto.PublicKey import RSA\n",
        "\n",
        "def fast_modular_exponentation(a, b, n):\n",
        "  result = 1\n",
        "  while b > 0:\n",
        "    if b % 2 == 1:\n",
        "      result = (result + a) % n\n",
        "    a = (a * a) % n\n",
        "    b //= 2\n",
        "  return result\n",
        "\n",
        "def res_signature_generation(message, d, n):\n",
        "  digest = int.from_bytes(hashlib.sha256(message).digest(), byteorder='big')\n",
        "  signature = fast_modular_exponentation(digest, d, n)\n",
        "  return signature\n",
        "\n",
        "def rsa_signature_verification(message, e, n, signature):\n",
        "  digest = int.from_bytes(hashlib.sha256(message).digest(), byteorder='big')\n",
        "  verification = fast_modular_exponentation(signature, e, n) == digest\n",
        "  return verification\n",
        "\n",
        "print(\"RSA key generation\")\n",
        "keyPair = RSA.generate(bits=1024)\n",
        "print(\" n = \", keyPair.n)\n",
        "print(\" e = \", keyPair.e)\n",
        "print(\" d = \", keyPair.d)\n",
        "\n",
        "\n",
        "t = input(\"message : \")\n",
        "msg = bytes(t, \"utf-8\")\n",
        "\n",
        "signature = rsa_signature_verification(msg, keyPair.d, keyPair.n)\n",
        "print(\"signature : \", signature)\n",
        "\n",
        "verification = rsa_signature_verification(msg, keyPair.e, keyPair.n, signature)\n",
        "print(\"확인 결과 : \", verification )"
      ]
    }
  ]
}